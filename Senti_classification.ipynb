{
  "cells": [
    {
      "cell_type": "code",
      "source": [
        "from google.colab import drive\n",
        "drive.mount('/content/drive',force_remount=True)"
      ],
      "metadata": {
        "colab": {
          "base_uri": "https://localhost:8080/"
        },
        "id": "Jp0aMcgegeB2",
        "outputId": "8087888a-0499-4cbf-9a7f-c7bd4cb32bf2"
      },
      "execution_count": 1,
      "outputs": [
        {
          "output_type": "stream",
          "name": "stdout",
          "text": [
            "Mounted at /content/drive\n"
          ]
        }
      ]
    },
    {
      "cell_type": "code",
      "source": [
        "import pandas as pd\n",
        "import numpy as np\n",
        "import matplotlib.pyplot as plt\n",
        "import tensorflow as tf\n",
        "import matplotlib.pyplot as plt\n",
        "plt.rcParams[\"figure.figsize\"] = (20,5)"
      ],
      "metadata": {
        "id": "-SGBhO6Igelf"
      },
      "execution_count": 187,
      "outputs": []
    },
    {
      "cell_type": "code",
      "source": [
        "df3 = pd.read_csv('/content/drive/MyDrive/NLP /project data/fprocessed_dataset.csv',encoding='utf16',header=None)\n",
        "df3.head()"
      ],
      "metadata": {
        "colab": {
          "base_uri": "https://localhost:8080/",
          "height": 206
        },
        "id": "aOMJV86Yifce",
        "outputId": "590f8127-a721-4c1d-e0dd-d2c91473ac43"
      },
      "execution_count": 12,
      "outputs": [
        {
          "output_type": "execute_result",
          "data": {
            "text/html": [
              "<div>\n",
              "<style scoped>\n",
              "    .dataframe tbody tr th:only-of-type {\n",
              "        vertical-align: middle;\n",
              "    }\n",
              "\n",
              "    .dataframe tbody tr th {\n",
              "        vertical-align: top;\n",
              "    }\n",
              "\n",
              "    .dataframe thead th {\n",
              "        text-align: right;\n",
              "    }\n",
              "</style>\n",
              "<table border=\"1\" class=\"dataframe\">\n",
              "  <thead>\n",
              "    <tr style=\"text-align: right;\">\n",
              "      <th></th>\n",
              "      <th>0</th>\n",
              "      <th>1</th>\n",
              "    </tr>\n",
              "  </thead>\n",
              "  <tbody>\n",
              "    <tr>\n",
              "      <th>0</th>\n",
              "      <td>दिनेश कार्तिक अलावा युवा केदार जाधव बेहतर प्रत...</td>\n",
              "      <td>2</td>\n",
              "    </tr>\n",
              "    <tr>\n",
              "      <th>1</th>\n",
              "      <td>परफॉर्मेंस चार्ट शायद कभी</td>\n",
              "      <td>2</td>\n",
              "    </tr>\n",
              "    <tr>\n",
              "      <th>2</th>\n",
              "      <td>स दवा दिन तबीयत बहाल गई</td>\n",
              "      <td>1</td>\n",
              "    </tr>\n",
              "    <tr>\n",
              "      <th>3</th>\n",
              "      <td>चुनाव आयोग नाराज़ बंगाल इतने दिनों हिंसा रही च...</td>\n",
              "      <td>0</td>\n",
              "    </tr>\n",
              "    <tr>\n",
              "      <th>4</th>\n",
              "      <td>दौर इन्सान बरदाश्त हद हर बार जी उठता कितनी दफ़...</td>\n",
              "      <td>2</td>\n",
              "    </tr>\n",
              "  </tbody>\n",
              "</table>\n",
              "</div>"
            ],
            "text/plain": [
              "                                                   0  1\n",
              "0  दिनेश कार्तिक अलावा युवा केदार जाधव बेहतर प्रत...  2\n",
              "1                          परफॉर्मेंस चार्ट शायद कभी  2\n",
              "2                            स दवा दिन तबीयत बहाल गई  1\n",
              "3  चुनाव आयोग नाराज़ बंगाल इतने दिनों हिंसा रही च...  0\n",
              "4  दौर इन्सान बरदाश्त हद हर बार जी उठता कितनी दफ़...  2"
            ]
          },
          "metadata": {},
          "execution_count": 12
        }
      ]
    },
    {
      "cell_type": "code",
      "source": [
        "#removing unit and 2-length words that stopwords file didnt catch\n",
        "\n",
        "def removeSingleCharacter(df3):\n",
        "  for i in range(len(df3)):\n",
        "    old_string = str(df3[0][i])\n",
        "    new_string = ' '.join([w for w in old_string.split() if len(w)>2])\n",
        "    df3[0][i] = new_string\n",
        "    return df3\n",
        "  \t\n",
        "new_df3 = removeSingleCharacter(df3)"
      ],
      "metadata": {
        "id": "V3VI4RYvsdQg"
      },
      "execution_count": null,
      "outputs": []
    },
    {
      "cell_type": "code",
      "source": [
        "new_df3 = new_df3.sample(frac=1) # randomly shuffling the Data\n",
        "X_data = []\n",
        "Y_data = []\n",
        "\n",
        "for i in range(len(new_df3)):\n",
        "  X_data.append(str(new_df3[0][i]))\n",
        "  Y_data.append(new_df3[1][i])\n",
        "\n",
        "print(len(X_data),len(Y_data))"
      ],
      "metadata": {
        "colab": {
          "base_uri": "https://localhost:8080/"
        },
        "id": "zdW6qWuYUIhb",
        "outputId": "12b9a568-645c-420f-eba4-d1de2a718055"
      },
      "execution_count": 101,
      "outputs": [
        {
          "output_type": "stream",
          "name": "stdout",
          "text": [
            "11103 11103\n"
          ]
        }
      ]
    },
    {
      "cell_type": "code",
      "source": [
        "def maxLengthTweet(df):\n",
        "  max_len = 0\n",
        "  for i in range(len(df)):\n",
        "    string = str(df[0][i])\n",
        "    length = len(string.split())\n",
        "    if length > max_len:\n",
        "      max_len = length \n",
        "  \n",
        "  return max_len \n",
        "\n",
        "max_len_tweet = maxLengthTweet(new_df3)\n",
        "print(max_len_tweet)"
      ],
      "metadata": {
        "colab": {
          "base_uri": "https://localhost:8080/"
        },
        "id": "s4pPFzIps-LV",
        "outputId": "3272d15a-77dd-4876-fbdf-e38c0a31267d"
      },
      "execution_count": 102,
      "outputs": [
        {
          "output_type": "stream",
          "name": "stdout",
          "text": [
            "31\n"
          ]
        }
      ]
    },
    {
      "cell_type": "code",
      "source": [
        "new_X_data = []\n",
        "for sent in X_data:\n",
        "  listt = [w for w in sent.split()]\n",
        "  new_X_data.append(listt)\n",
        "\n",
        "new_X_data[:5]"
      ],
      "metadata": {
        "colab": {
          "base_uri": "https://localhost:8080/"
        },
        "id": "i96_SkOqS-er",
        "outputId": "30f44314-97b9-438d-e154-6c89ba0ce6fb"
      },
      "execution_count": 105,
      "outputs": [
        {
          "output_type": "execute_result",
          "data": {
            "text/plain": [
              "[['दिनेश',\n",
              "  'कार्तिक',\n",
              "  'अलावा',\n",
              "  'युवा',\n",
              "  'केदार',\n",
              "  'जाधव',\n",
              "  'बेहतर',\n",
              "  'प्रतिभा',\n",
              "  'दिखाई',\n",
              "  'टीम',\n",
              "  'रूप',\n",
              "  'सम्मिलित',\n",
              "  'प्रदर्शन',\n",
              "  'पाने',\n",
              "  'नाकामयाब'],\n",
              " ['परफॉर्मेंस', 'चार्ट', 'शायद', 'कभी'],\n",
              " ['दवा', 'दिन', 'तबीयत', 'बहाल', 'गई'],\n",
              " ['चुनाव',\n",
              "  'आयोग',\n",
              "  'नाराज़',\n",
              "  'बंगाल',\n",
              "  'इतने',\n",
              "  'दिनों',\n",
              "  'हिंसा',\n",
              "  'रही',\n",
              "  'चुनाव',\n",
              "  'आयोग',\n",
              "  'जागा',\n",
              "  'देखिए'],\n",
              " ['दौर',\n",
              "  'इन्सान',\n",
              "  'बरदाश्त',\n",
              "  'हद',\n",
              "  'हर',\n",
              "  'बार',\n",
              "  'जी',\n",
              "  'उठता',\n",
              "  'कितनी',\n",
              "  'दफ़ा',\n",
              "  'मरता']]"
            ]
          },
          "metadata": {},
          "execution_count": 105
        }
      ]
    },
    {
      "cell_type": "code",
      "source": [
        "new_X_data_ = []\n",
        "for sent in new_X_data:\n",
        "  listt = sent\n",
        "  for j in sent:\n",
        "    if len(j) <=2:\n",
        "      listt.remove(j)\n",
        "\n",
        "  new_X_data_.append(listt)\n",
        "print(new_X_data_[:5])"
      ],
      "metadata": {
        "colab": {
          "base_uri": "https://localhost:8080/"
        },
        "id": "u53oef2ujOmP",
        "outputId": "42c92ea1-21b3-49cf-c5f3-27e536c905a4"
      },
      "execution_count": 112,
      "outputs": [
        {
          "output_type": "stream",
          "name": "stdout",
          "text": [
            "[['दिनेश', 'कार्तिक', 'अलावा', 'युवा', 'केदार', 'जाधव', 'बेहतर', 'प्रतिभा', 'दिखाई', 'टीम', 'रूप', 'सम्मिलित', 'प्रदर्शन', 'पाने', 'नाकामयाब'], ['परफॉर्मेंस', 'चार्ट', 'शायद', 'कभी'], ['दवा', 'दिन', 'तबीयत', 'बहाल'], ['चुनाव', 'आयोग', 'नाराज़', 'बंगाल', 'इतने', 'दिनों', 'हिंसा', 'रही', 'चुनाव', 'आयोग', 'जागा', 'देखिए'], ['दौर', 'इन्सान', 'बरदाश्त', 'बार', 'उठता', 'कितनी', 'दफ़ा', 'मरता']]\n"
          ]
        }
      ]
    },
    {
      "cell_type": "code",
      "source": [
        "# Vocabolary Size \n",
        "word_counts = {}\n",
        "print()\n",
        "for sent in new_X_data_:\n",
        "  for words in sent:\n",
        "    word_counts[words] = word_counts.get(words, 0) + 1\n",
        "\n",
        "vocab = [w for w in word_counts] \n",
        "vocab_size = len(vocab) + 1 # default 1 for '0' that we will pad after every sentence \n",
        "print(vocab_size)"
      ],
      "metadata": {
        "colab": {
          "base_uri": "https://localhost:8080/"
        },
        "id": "DFQkBmNp7oZm",
        "outputId": "9f14caca-cb4b-4229-d784-38c995aebce4"
      },
      "execution_count": 117,
      "outputs": [
        {
          "output_type": "stream",
          "name": "stdout",
          "text": [
            "\n",
            "15115\n"
          ]
        }
      ]
    },
    {
      "cell_type": "code",
      "source": [
        "# Padding the Sequence \n",
        "wordtoix = {} # word input -> output index\n",
        "ixtoword = {} # index input -> output word\n",
        "\n",
        "ix = 1\n",
        "for w in vocab:\n",
        "  wordtoix[w] = ix\n",
        "  ixtoword[ix] = w\n",
        "\n",
        "  ix+=1\n",
        "\n",
        "print(len(wordtoix))"
      ],
      "metadata": {
        "colab": {
          "base_uri": "https://localhost:8080/"
        },
        "id": "Yjz9MEzlzcz4",
        "outputId": "e6cc7f22-56c3-4d13-ec04-a3f8aa641b11"
      },
      "execution_count": 118,
      "outputs": [
        {
          "output_type": "stream",
          "name": "stdout",
          "text": [
            "15114\n"
          ]
        }
      ]
    },
    {
      "cell_type": "code",
      "source": [
        "# training data into sequence \n",
        "seq_X_data = []\n",
        "for sent in new_X_data:\n",
        "  listt=[]\n",
        "  for word in sent:\n",
        "    listt.append(wordtoix[word])\n",
        "  seq_X_data.append(listt)\n",
        "\n",
        "print(seq_X_data[1500:1505])"
      ],
      "metadata": {
        "colab": {
          "base_uri": "https://localhost:8080/"
        },
        "id": "KlE9m8ViTHFl",
        "outputId": "ae291aea-6629-4437-c5db-5b426423b11c"
      },
      "execution_count": 120,
      "outputs": [
        {
          "output_type": "stream",
          "name": "stdout",
          "text": [
            "[[46, 1903, 5154, 5298, 3417, 1126, 580, 574, 725, 580, 1286], [5299, 547, 5300, 418, 2310], [5301, 5302, 4497, 2343, 118, 5303, 1476, 5304, 5305, 5306, 1118, 564, 2466], [918, 4701, 2726, 1344], [5307, 154, 5308, 55, 5309, 319, 5310]]\n"
          ]
        }
      ]
    },
    {
      "cell_type": "code",
      "source": [
        "# padding the Sequence \n",
        "from keras.preprocessing import sequence\n",
        "\n",
        "pad_X_data = sequence.pad_sequences(seq_X_data , maxlen = max_len_tweet, padding='post')\n",
        "\n",
        "print(pad_X_data[:5])"
      ],
      "metadata": {
        "colab": {
          "base_uri": "https://localhost:8080/"
        },
        "id": "eDZ2H--XWb4w",
        "outputId": "83c303e5-07a5-456c-e32e-1755b363a24f"
      },
      "execution_count": 121,
      "outputs": [
        {
          "output_type": "stream",
          "name": "stdout",
          "text": [
            "[[ 1  2  3  4  5  6  7  8  9 10 11 12 13 14 15  0  0  0  0  0  0  0  0  0\n",
            "   0  0  0  0  0  0  0]\n",
            " [16 17 18 19  0  0  0  0  0  0  0  0  0  0  0  0  0  0  0  0  0  0  0  0\n",
            "   0  0  0  0  0  0  0]\n",
            " [20 21 22 23  0  0  0  0  0  0  0  0  0  0  0  0  0  0  0  0  0  0  0  0\n",
            "   0  0  0  0  0  0  0]\n",
            " [24 25 26 27 28 29 30 31 24 25 32 33  0  0  0  0  0  0  0  0  0  0  0  0\n",
            "   0  0  0  0  0  0  0]\n",
            " [34 35 36 37 38 39 40 41  0  0  0  0  0  0  0  0  0  0  0  0  0  0  0  0\n",
            "   0  0  0  0  0  0  0]]\n"
          ]
        }
      ]
    },
    {
      "cell_type": "code",
      "source": [
        "# converting output into one-hot vector\n",
        "cat_Y_data = tf.keras.utils.to_categorical(Y_data,num_classes =3,dtype=int)\n",
        "\n",
        "cat_Y_data[1]"
      ],
      "metadata": {
        "colab": {
          "base_uri": "https://localhost:8080/"
        },
        "id": "0nMpfGbGdDy2",
        "outputId": "5d695a48-985b-4173-82b9-144253aa71d6"
      },
      "execution_count": 122,
      "outputs": [
        {
          "output_type": "execute_result",
          "data": {
            "text/plain": [
              "array([0, 0, 1])"
            ]
          },
          "metadata": {},
          "execution_count": 122
        }
      ]
    },
    {
      "cell_type": "code",
      "source": [
        "from sklearn.model_selection import train_test_split\n",
        "Xtrain , Xtest , Ytrain , Ytest = train_test_split(pad_X_data,cat_Y_data, test_size = 0.15, random_state = 6)"
      ],
      "metadata": {
        "id": "R7zfD14dxayI"
      },
      "execution_count": 160,
      "outputs": []
    },
    {
      "cell_type": "code",
      "source": [
        "Xtrain , XVal , Ytrain , YVal = train_test_split(Xtrain,Ytrain, test_size = 0.15, random_state = 6)"
      ],
      "metadata": {
        "id": "vi7n1fTlM0k3"
      },
      "execution_count": 161,
      "outputs": []
    },
    {
      "cell_type": "code",
      "source": [
        "print(\"Training Data: \", len(Xtrain))\n",
        "print(\"Validation Data: \",len(XVal))\n",
        "print(\"Test Data: \",len(Xtest))"
      ],
      "metadata": {
        "colab": {
          "base_uri": "https://localhost:8080/"
        },
        "id": "HfZ_A7q5zbdG",
        "outputId": "2e75b410-f0bf-4cac-acb5-d76735a9adb3"
      },
      "execution_count": 162,
      "outputs": [
        {
          "output_type": "stream",
          "name": "stdout",
          "text": [
            "Training Data:  8021\n",
            "Validation Data:  1416\n",
            "Test Data:  1666\n"
          ]
        }
      ]
    },
    {
      "cell_type": "markdown",
      "source": [
        "**Simple RNN model**"
      ],
      "metadata": {
        "id": "MCcZP_M9KxK6"
      }
    },
    {
      "cell_type": "code",
      "source": [
        "from keras import Sequential\n",
        "from keras.layers import Embedding, SimpleRNN, Dense, Dropout\n",
        "\n",
        "model=Sequential()\n",
        "model.add(Embedding(vocab_size, embed_dim, input_length=max_len_tweet))\n",
        "model.add(SimpleRNN(256, return_sequences=True, dropout = 0.5))\n",
        "model.add(SimpleRNN(100, dropout = 0.5))\n",
        "model.add(Dense(3, activation='softmax'))\n",
        "\n",
        "model.compile(loss='categorical_crossentropy', \n",
        "             optimizer='adam', \n",
        "             metrics=['accuracy'])\n",
        "\n",
        "print(model.summary())"
      ],
      "metadata": {
        "colab": {
          "base_uri": "https://localhost:8080/"
        },
        "id": "ZSX-jvWjKwk_",
        "outputId": "60e63f4f-869d-4c39-bb93-5ed5a5f244d8"
      },
      "execution_count": 165,
      "outputs": [
        {
          "output_type": "stream",
          "name": "stdout",
          "text": [
            "Model: \"sequential_14\"\n",
            "_________________________________________________________________\n",
            " Layer (type)                Output Shape              Param #   \n",
            "=================================================================\n",
            " embedding_14 (Embedding)    (None, 31, 100)           1511500   \n",
            "                                                                 \n",
            " simple_rnn_3 (SimpleRNN)    (None, 31, 256)           91392     \n",
            "                                                                 \n",
            " simple_rnn_4 (SimpleRNN)    (None, 100)               35700     \n",
            "                                                                 \n",
            " dense_13 (Dense)            (None, 3)                 303       \n",
            "                                                                 \n",
            "=================================================================\n",
            "Total params: 1,638,895\n",
            "Trainable params: 1,638,895\n",
            "Non-trainable params: 0\n",
            "_________________________________________________________________\n",
            "None\n"
          ]
        }
      ]
    },
    {
      "cell_type": "code",
      "source": [
        "batch_sz = 32\n",
        "epochs = 20\n",
        "\n",
        "history = model.fit(Xtrain, Ytrain, validation_data=(XVal, YVal), batch_size=batch_sz, epochs=epochs)"
      ],
      "metadata": {
        "colab": {
          "base_uri": "https://localhost:8080/"
        },
        "id": "-rxhqyt9OII9",
        "outputId": "cde30520-8f81-45da-ac21-ca0363a671b4"
      },
      "execution_count": 167,
      "outputs": [
        {
          "output_type": "stream",
          "name": "stdout",
          "text": [
            "Epoch 1/20\n",
            "251/251 [==============================] - 13s 53ms/step - loss: 1.1023 - accuracy: 0.3402 - val_loss: 1.1163 - val_accuracy: 0.3121\n",
            "Epoch 2/20\n",
            "251/251 [==============================] - 13s 51ms/step - loss: 1.1026 - accuracy: 0.3452 - val_loss: 1.0985 - val_accuracy: 0.3376\n",
            "Epoch 3/20\n",
            "251/251 [==============================] - 13s 52ms/step - loss: 1.1062 - accuracy: 0.3364 - val_loss: 1.0952 - val_accuracy: 0.3665\n",
            "Epoch 4/20\n",
            "251/251 [==============================] - 13s 52ms/step - loss: 1.1039 - accuracy: 0.3295 - val_loss: 1.1058 - val_accuracy: 0.3658\n",
            "Epoch 5/20\n",
            "251/251 [==============================] - 13s 53ms/step - loss: 1.1041 - accuracy: 0.3345 - val_loss: 1.1129 - val_accuracy: 0.3100\n",
            "Epoch 6/20\n",
            "251/251 [==============================] - 13s 52ms/step - loss: 1.1034 - accuracy: 0.3396 - val_loss: 1.0954 - val_accuracy: 0.3665\n",
            "Epoch 7/20\n",
            "251/251 [==============================] - 13s 51ms/step - loss: 1.1011 - accuracy: 0.3346 - val_loss: 1.0987 - val_accuracy: 0.3672\n",
            "Epoch 8/20\n",
            "251/251 [==============================] - 13s 51ms/step - loss: 1.1041 - accuracy: 0.3347 - val_loss: 1.1047 - val_accuracy: 0.3340\n",
            "Epoch 9/20\n",
            "251/251 [==============================] - 13s 52ms/step - loss: 1.0999 - accuracy: 0.3426 - val_loss: 1.1023 - val_accuracy: 0.3686\n",
            "Epoch 10/20\n",
            "251/251 [==============================] - 13s 52ms/step - loss: 1.1026 - accuracy: 0.3389 - val_loss: 1.1037 - val_accuracy: 0.3369\n",
            "Epoch 11/20\n",
            "251/251 [==============================] - 13s 52ms/step - loss: 1.1056 - accuracy: 0.3356 - val_loss: 1.0938 - val_accuracy: 0.3658\n",
            "Epoch 12/20\n",
            "251/251 [==============================] - 13s 51ms/step - loss: 1.1017 - accuracy: 0.3379 - val_loss: 1.1006 - val_accuracy: 0.3362\n",
            "Epoch 13/20\n",
            "251/251 [==============================] - 13s 52ms/step - loss: 1.1020 - accuracy: 0.3357 - val_loss: 1.1143 - val_accuracy: 0.3362\n",
            "Epoch 14/20\n",
            "251/251 [==============================] - 13s 53ms/step - loss: 1.1037 - accuracy: 0.3354 - val_loss: 1.0942 - val_accuracy: 0.3672\n",
            "Epoch 15/20\n",
            "251/251 [==============================] - 13s 52ms/step - loss: 1.1034 - accuracy: 0.3435 - val_loss: 1.1061 - val_accuracy: 0.3291\n",
            "Epoch 16/20\n",
            "251/251 [==============================] - 13s 52ms/step - loss: 1.1020 - accuracy: 0.3354 - val_loss: 1.0972 - val_accuracy: 0.3312\n",
            "Epoch 17/20\n",
            "251/251 [==============================] - 13s 53ms/step - loss: 1.1011 - accuracy: 0.3453 - val_loss: 1.1053 - val_accuracy: 0.3383\n",
            "Epoch 18/20\n",
            "251/251 [==============================] - 13s 52ms/step - loss: 1.1085 - accuracy: 0.3364 - val_loss: 1.0950 - val_accuracy: 0.3277\n",
            "Epoch 19/20\n",
            "251/251 [==============================] - 13s 51ms/step - loss: 1.1021 - accuracy: 0.3482 - val_loss: 1.1421 - val_accuracy: 0.3312\n",
            "Epoch 20/20\n",
            "251/251 [==============================] - 13s 52ms/step - loss: 1.1035 - accuracy: 0.3407 - val_loss: 1.0973 - val_accuracy: 0.3333\n"
          ]
        }
      ]
    },
    {
      "cell_type": "code",
      "source": [
        "plt.subplot(1,2,1)\n",
        "plt.plot(history.history['accuracy'])\n",
        "plt.plot(history.history['val_accuracy'])\n",
        "plt.title('Model accuracy per epoch')\n",
        "plt.ylabel('accuracy')\n",
        "plt.xlabel('epoch')\n",
        "plt.legend(['train', 'validation'], loc='upper left')\n",
        "\n",
        "plt.subplot(1,2,2)\n",
        "plt.plot(history.history['loss'])\n",
        "plt.plot(history.history['val_loss'])\n",
        "plt.title('Model Loss per epoch')\n",
        "plt.ylabel('loss')\n",
        "plt.xlabel('epoch')\n",
        "plt.legend(['train', 'validation'], loc='upper right')\n",
        "\n",
        "plt.show()"
      ],
      "metadata": {
        "colab": {
          "base_uri": "https://localhost:8080/",
          "height": 346
        },
        "id": "Ye-L34bJUgLh",
        "outputId": "1ccc47d3-d965-449a-c17c-7d880f4061ba"
      },
      "execution_count": 188,
      "outputs": [
        {
          "output_type": "display_data",
          "data": {
            "image/png": "[encoded data removed]",
            "text/plain": [
              "<Figure size 1440x360 with 2 Axes>"
            ]
          },
          "metadata": {
            "needs_background": "light"
          }
        }
      ]
    },
    {
      "cell_type": "code",
      "source": [
        "test_scores = model.evaluate(Xtest, Ytest, verbose=0)"
      ],
      "metadata": {
        "id": "bPfDvOIhOty-"
      },
      "execution_count": 171,
      "outputs": []
    },
    {
      "cell_type": "code",
      "source": [
        "print(\"Test Accuracy is :\",test_scores[1])\n",
        "print(\"Test Loss is :\",test_scores[0])"
      ],
      "metadata": {
        "colab": {
          "base_uri": "https://localhost:8080/"
        },
        "id": "XSegiWO-PN5X",
        "outputId": "7b52d420-e80c-45e5-97c7-49f024679503"
      },
      "execution_count": 175,
      "outputs": [
        {
          "output_type": "stream",
          "name": "stdout",
          "text": [
            "Test Accuracy is : 0.34633854031562805\n",
            "Test Loss is : 1.0965497493743896\n"
          ]
        }
      ]
    },
    {
      "cell_type": "markdown",
      "source": [
        "**LSTM model without word embeddings**"
      ],
      "metadata": {
        "id": "g3ZyEkQDK1GR"
      }
    },
    {
      "cell_type": "code",
      "source": [
        "from keras import Sequential\n",
        "from keras.layers import Embedding, LSTM, Dense, Dropout\n",
        "\n",
        "def createModel(embed_dim):\n",
        "\n",
        "  model=Sequential()\n",
        "  model.add(Embedding(vocab_size, embed_dim, input_length=max_len_tweet))\n",
        "  model.add(LSTM(256, return_sequences=True, dropout = 0.5))\n",
        "  model.add(LSTM(100, dropout = 0.5))\n",
        "  model.add(Dense(3, activation='softmax'))\n",
        "\n",
        "  model.compile(loss='categorical_crossentropy', \n",
        "             optimizer='adam', \n",
        "             metrics=['accuracy'])\n",
        "\n",
        "  return model"
      ],
      "metadata": {
        "id": "CwnUDK2MTv12"
      },
      "execution_count": 180,
      "outputs": []
    },
    {
      "cell_type": "code",
      "source": [
        "model_lstm = createModel(50)\n",
        "model_lstm.summary()"
      ],
      "metadata": {
        "colab": {
          "base_uri": "https://localhost:8080/"
        },
        "id": "z8EDcV0ExYYM",
        "outputId": "4ab6aa44-987a-4929-bec1-7f7e8d997ecd"
      },
      "execution_count": 181,
      "outputs": [
        {
          "output_type": "stream",
          "name": "stdout",
          "text": [
            "Model: \"sequential_15\"\n",
            "_________________________________________________________________\n",
            " Layer (type)                Output Shape              Param #   \n",
            "=================================================================\n",
            " embedding_15 (Embedding)    (None, 31, 50)            755750    \n",
            "                                                                 \n",
            " lstm_21 (LSTM)              (None, 31, 256)           314368    \n",
            "                                                                 \n",
            " lstm_22 (LSTM)              (None, 100)               142800    \n",
            "                                                                 \n",
            " dense_14 (Dense)            (None, 3)                 303       \n",
            "                                                                 \n",
            "=================================================================\n",
            "Total params: 1,213,221\n",
            "Trainable params: 1,213,221\n",
            "Non-trainable params: 0\n",
            "_________________________________________________________________\n"
          ]
        }
      ]
    },
    {
      "cell_type": "code",
      "source": [
        "batch_sz = 32\n",
        "epochs = 20\n",
        "\n",
        "history_lstm = model_lstm.fit(Xtrain, Ytrain, validation_data=(XVal, YVal), batch_size=batch_sz, epochs=epochs)"
      ],
      "metadata": {
        "colab": {
          "base_uri": "https://localhost:8080/"
        },
        "id": "3f8Q-AOVbAGW",
        "outputId": "bbf01c32-7b41-4a86-c8bf-4511a7b9c6d3"
      },
      "execution_count": 183,
      "outputs": [
        {
          "output_type": "stream",
          "name": "stdout",
          "text": [
            "Epoch 1/20\n",
            "251/251 [==============================] - 42s 166ms/step - loss: 0.8877 - accuracy: 0.5259 - val_loss: 0.8147 - val_accuracy: 0.5805\n",
            "Epoch 2/20\n",
            "251/251 [==============================] - 41s 162ms/step - loss: 0.6642 - accuracy: 0.6927 - val_loss: 0.7665 - val_accuracy: 0.6751\n",
            "Epoch 3/20\n",
            "251/251 [==============================] - 41s 163ms/step - loss: 0.4437 - accuracy: 0.8319 - val_loss: 0.6677 - val_accuracy: 0.7366\n",
            "Epoch 4/20\n",
            "251/251 [==============================] - 41s 164ms/step - loss: 0.2672 - accuracy: 0.9099 - val_loss: 0.7013 - val_accuracy: 0.7528\n",
            "Epoch 5/20\n",
            "251/251 [==============================] - 41s 165ms/step - loss: 0.1832 - accuracy: 0.9451 - val_loss: 0.8033 - val_accuracy: 0.7408\n",
            "Epoch 6/20\n",
            "251/251 [==============================] - 41s 163ms/step - loss: 0.1408 - accuracy: 0.9605 - val_loss: 0.8100 - val_accuracy: 0.7521\n",
            "Epoch 7/20\n",
            "251/251 [==============================] - 41s 163ms/step - loss: 0.1194 - accuracy: 0.9655 - val_loss: 0.8274 - val_accuracy: 0.7564\n",
            "Epoch 8/20\n",
            "251/251 [==============================] - 41s 163ms/step - loss: 0.1044 - accuracy: 0.9701 - val_loss: 0.9301 - val_accuracy: 0.7535\n",
            "Epoch 9/20\n",
            "251/251 [==============================] - 40s 161ms/step - loss: 0.0834 - accuracy: 0.9781 - val_loss: 0.8214 - val_accuracy: 0.7627\n",
            "Epoch 10/20\n",
            "251/251 [==============================] - 40s 161ms/step - loss: 0.0775 - accuracy: 0.9801 - val_loss: 0.9070 - val_accuracy: 0.7627\n",
            "Epoch 11/20\n",
            "251/251 [==============================] - 40s 161ms/step - loss: 0.0648 - accuracy: 0.9820 - val_loss: 0.9947 - val_accuracy: 0.7549\n",
            "Epoch 12/20\n",
            "251/251 [==============================] - 40s 160ms/step - loss: 0.0649 - accuracy: 0.9815 - val_loss: 1.0657 - val_accuracy: 0.7542\n",
            "Epoch 13/20\n",
            "251/251 [==============================] - 40s 160ms/step - loss: 0.0597 - accuracy: 0.9820 - val_loss: 1.1483 - val_accuracy: 0.7585\n",
            "Epoch 14/20\n",
            "251/251 [==============================] - 40s 160ms/step - loss: 0.0546 - accuracy: 0.9842 - val_loss: 1.0838 - val_accuracy: 0.7606\n",
            "Epoch 15/20\n",
            "251/251 [==============================] - 40s 160ms/step - loss: 0.0455 - accuracy: 0.9877 - val_loss: 1.0777 - val_accuracy: 0.7578\n",
            "Epoch 16/20\n",
            "251/251 [==============================] - 40s 160ms/step - loss: 0.0499 - accuracy: 0.9864 - val_loss: 1.1334 - val_accuracy: 0.7549\n",
            "Epoch 17/20\n",
            "251/251 [==============================] - 40s 160ms/step - loss: 0.0482 - accuracy: 0.9869 - val_loss: 1.1106 - val_accuracy: 0.7592\n",
            "Epoch 18/20\n",
            "251/251 [==============================] - 40s 161ms/step - loss: 0.0426 - accuracy: 0.9878 - val_loss: 1.2238 - val_accuracy: 0.7556\n",
            "Epoch 19/20\n",
            "251/251 [==============================] - 40s 161ms/step - loss: 0.0356 - accuracy: 0.9899 - val_loss: 1.2989 - val_accuracy: 0.7556\n",
            "Epoch 20/20\n",
            "251/251 [==============================] - 40s 160ms/step - loss: 0.0396 - accuracy: 0.9892 - val_loss: 1.1389 - val_accuracy: 0.7606\n"
          ]
        }
      ]
    },
    {
      "cell_type": "code",
      "source": [
        "plt.subplot(1,2,1)\n",
        "plt.plot(history_lstm.history['accuracy'])\n",
        "plt.plot(history_lstm.history['val_accuracy'])\n",
        "plt.title('Model accuracy per epoch')\n",
        "plt.ylabel('accuracy')\n",
        "plt.xlabel('epoch')\n",
        "plt.legend(['train', 'validation'], loc='upper left')\n",
        "\n",
        "plt.subplot(1,2,2)\n",
        "plt.plot(history_lstm.history['loss'])\n",
        "plt.plot(history_lstm.history['val_loss'])\n",
        "plt.title('Model Loss per epoch')\n",
        "plt.ylabel('loss')\n",
        "plt.xlabel('epoch')\n",
        "plt.legend(['train', 'validation'], loc='upper right')\n",
        "\n",
        "plt.show()"
      ],
      "metadata": {
        "colab": {
          "base_uri": "https://localhost:8080/",
          "height": 347
        },
        "id": "Osg2LkbKWGAV",
        "outputId": "6e81dfaf-0b9f-4e22-c600-45b8a7ed4772"
      },
      "execution_count": 189,
      "outputs": [
        {
          "output_type": "display_data",
          "data": {
            "image/png": "[encoded data removed]",
            "text/plain": [
              "<Figure size 1440x360 with 2 Axes>"
            ]
          },
          "metadata": {
            "needs_background": "light"
          }
        }
      ]
    },
    {
      "cell_type": "code",
      "source": [
        "test_scores = model_lstm.evaluate(Xtest, Ytest, verbose=0)\n",
        "\n",
        "print(\"Test Accuracy is :\",test_scores[1])\n",
        "print(\"Test Loss is :\",test_scores[0])"
      ],
      "metadata": {
        "colab": {
          "base_uri": "https://localhost:8080/"
        },
        "id": "msBvItXFSbC-",
        "outputId": "7de889a3-173d-44a2-dbda-29b2420d0b6b"
      },
      "execution_count": 184,
      "outputs": [
        {
          "output_type": "stream",
          "name": "stdout",
          "text": [
            "Test Accuracy is : 0.7761104702949524\n",
            "Test Loss is : 1.0134615898132324\n"
          ]
        }
      ]
    },
    {
      "cell_type": "markdown",
      "source": [
        "**LSTM with Word embedding**"
      ],
      "metadata": {
        "id": "DS8EXchjK8IU"
      }
    },
    {
      "cell_type": "code",
      "source": [
        "#Creating Embedding Matrix using Fasttext\n",
        "\n",
        "!cp \"/content/drive/MyDrive/NLP /project data/cc.hi.100.bin\" \"/content\"\n",
        "\n",
        "!pip install fasttext\n",
        "\n",
        "import fasttext\n",
        "import fasttext.util\n",
        "ft = fasttext.load_model('/content/cc.hi.100.bin')\n",
        "ft.get_dimension()"
      ],
      "metadata": {
        "colab": {
          "base_uri": "https://localhost:8080/"
        },
        "id": "T--0JFbS4tU7",
        "outputId": "4af44ec1-efe6-405d-e1b7-750158fe0464"
      },
      "execution_count": 142,
      "outputs": [
        {
          "output_type": "stream",
          "name": "stdout",
          "text": [
            "Requirement already satisfied: fasttext in /usr/local/lib/python3.7/dist-packages (0.9.2)\n",
            "Requirement already satisfied: pybind11>=2.2 in /usr/local/lib/python3.7/dist-packages (from fasttext) (2.8.1)\n",
            "Requirement already satisfied: numpy in /usr/local/lib/python3.7/dist-packages (from fasttext) (1.19.5)\n",
            "Requirement already satisfied: setuptools>=0.7.0 in /usr/local/lib/python3.7/dist-packages (from fasttext) (57.4.0)\n"
          ]
        },
        {
          "output_type": "stream",
          "name": "stderr",
          "text": [
            "Warning : `load_model` does not return WordVectorModel or SupervisedModel any more, but a `FastText` object which is very similar.\n"
          ]
        },
        {
          "output_type": "execute_result",
          "data": {
            "text/plain": [
              "100"
            ]
          },
          "metadata": {},
          "execution_count": 142
        }
      ]
    },
    {
      "cell_type": "code",
      "source": [
        "ft.get_word_vector('वतन')"
      ],
      "metadata": {
        "colab": {
          "base_uri": "https://localhost:8080/"
        },
        "id": "gv75QFHy7si_",
        "outputId": "571b008d-d133-41e6-f7aa-2c9196875afc"
      },
      "execution_count": 143,
      "outputs": [
        {
          "output_type": "execute_result",
          "data": {
            "text/plain": [
              "array([-4.75478888e-01, -1.58951759e-01,  2.12404400e-01, -1.04172558e-01,\n",
              "       -7.37969875e-02, -1.75860703e-01, -1.27464503e-01, -3.57916623e-01,\n",
              "       -3.49265605e-01,  1.42368034e-01, -7.64457136e-02, -2.37016052e-01,\n",
              "       -4.26092260e-02,  9.66585800e-02, -4.77866456e-02,  6.87337294e-02,\n",
              "        2.13557869e-01, -1.83957756e-01,  1.64667621e-01, -9.55915526e-02,\n",
              "       -6.36012480e-02,  2.33423114e-01,  1.80872276e-01, -4.56274301e-02,\n",
              "        4.66011167e-01,  6.52549937e-02, -3.14200893e-02,  1.17021181e-01,\n",
              "        8.65966827e-03, -5.44346571e-02,  2.23681837e-01,  7.33003691e-02,\n",
              "       -8.54722783e-02, -1.60829917e-01, -1.04935065e-01, -1.12826020e-01,\n",
              "       -2.34066233e-01,  2.43287534e-02, -3.56946886e-02,  2.96378601e-02,\n",
              "        2.33614534e-01,  4.96965647e-02, -3.36869881e-02, -4.85402066e-03,\n",
              "        1.20585851e-01, -1.75463960e-01,  5.77180497e-02,  3.13589349e-03,\n",
              "       -1.70781463e-02,  7.98150450e-02, -1.51862204e-02, -1.54337525e-01,\n",
              "        5.93622290e-02, -5.66367544e-02,  6.27419651e-02,  9.00760889e-02,\n",
              "       -1.56919397e-02,  8.35518017e-02,  1.43908873e-01, -2.88718969e-01,\n",
              "       -1.94888681e-01, -7.07160160e-02, -1.37036622e-01,  2.64106318e-04,\n",
              "        1.57943025e-01, -2.26928294e-01,  7.09491819e-02,  4.84469123e-02,\n",
              "       -3.92580256e-02, -7.64455721e-02,  6.62907362e-02,  1.41663700e-02,\n",
              "       -1.10040858e-01, -6.41375929e-02, -8.85268003e-02,  1.33281618e-01,\n",
              "       -1.39105067e-01, -6.69585466e-02, -6.01792485e-02,  1.80328965e-01,\n",
              "        5.84779307e-02, -3.84530649e-02, -1.49441406e-01,  3.83141041e-02,\n",
              "       -7.23868012e-02, -4.06602621e-02, -5.84964454e-02,  1.12488031e-01,\n",
              "        7.27065280e-03, -6.32290170e-02, -9.86307859e-02, -1.87246308e-01,\n",
              "        9.76477191e-02,  3.42117473e-02,  7.81599730e-02, -1.58812925e-01,\n",
              "       -1.78776115e-01,  1.12538978e-01,  1.18876517e-01, -2.33745873e-01],\n",
              "      dtype=float32)"
            ]
          },
          "metadata": {},
          "execution_count": 143
        }
      ]
    },
    {
      "cell_type": "code",
      "source": [
        "embed_dim = 100\n",
        "\n",
        "embedding_matrix = np.zeros((vocab_size,embed_dim))\n",
        "for word, i in wordtoix.items():\n",
        "  embedding_vector = ft.get_word_vector(word)\n",
        "  if embedding_vector is not None:\n",
        "    embedding_matrix[i] = embedding_vector"
      ],
      "metadata": {
        "id": "96Sfgaujbgc6"
      },
      "execution_count": 149,
      "outputs": []
    },
    {
      "cell_type": "code",
      "source": [
        "model_em.layers[0].set_weights =  embedding_matrix\n",
        "model_em.layers[0].trainable = False"
      ],
      "metadata": {
        "id": "_RmpL04Q1LCk"
      },
      "execution_count": 150,
      "outputs": []
    },
    {
      "cell_type": "code",
      "source": [
        "model_em = createModel(embed_dim)"
      ],
      "metadata": {
        "id": "6tk49ixp317A"
      },
      "execution_count": 190,
      "outputs": []
    },
    {
      "cell_type": "code",
      "source": [
        "batch_sz = 32\n",
        "epochs = 20\n",
        "\n",
        "history_em = model_em.fit(Xtrain, Ytrain, validation_data=(Xtest, Ytest), batch_size=batch_sz, epochs=epochs)"
      ],
      "metadata": {
        "colab": {
          "base_uri": "https://localhost:8080/"
        },
        "id": "YF4HnY-FCliq",
        "outputId": "a5b74cc7-9a1b-4644-af9a-172aef654b50"
      },
      "execution_count": 191,
      "outputs": [
        {
          "output_type": "stream",
          "name": "stdout",
          "text": [
            "Epoch 1/20\n",
            "251/251 [==============================] - 52s 190ms/step - loss: 0.9684 - accuracy: 0.4701 - val_loss: 0.8173 - val_accuracy: 0.5510\n",
            "Epoch 2/20\n",
            "251/251 [==============================] - 47s 186ms/step - loss: 0.7039 - accuracy: 0.6295 - val_loss: 0.8258 - val_accuracy: 0.6194\n",
            "Epoch 3/20\n",
            "251/251 [==============================] - 46s 185ms/step - loss: 0.4968 - accuracy: 0.8039 - val_loss: 0.6841 - val_accuracy: 0.7359\n",
            "Epoch 4/20\n",
            "251/251 [==============================] - 46s 184ms/step - loss: 0.2701 - accuracy: 0.9099 - val_loss: 0.7006 - val_accuracy: 0.7689\n",
            "Epoch 5/20\n",
            "251/251 [==============================] - 46s 184ms/step - loss: 0.1712 - accuracy: 0.9480 - val_loss: 0.6956 - val_accuracy: 0.7689\n",
            "Epoch 6/20\n",
            "251/251 [==============================] - 46s 183ms/step - loss: 0.1302 - accuracy: 0.9612 - val_loss: 0.8364 - val_accuracy: 0.7737\n",
            "Epoch 7/20\n",
            "251/251 [==============================] - 46s 183ms/step - loss: 0.0937 - accuracy: 0.9746 - val_loss: 0.9066 - val_accuracy: 0.7761\n",
            "Epoch 8/20\n",
            "251/251 [==============================] - 46s 183ms/step - loss: 0.0716 - accuracy: 0.9797 - val_loss: 0.9792 - val_accuracy: 0.7833\n",
            "Epoch 9/20\n",
            "251/251 [==============================] - 46s 183ms/step - loss: 0.0763 - accuracy: 0.9788 - val_loss: 0.9611 - val_accuracy: 0.7773\n",
            "Epoch 10/20\n",
            "251/251 [==============================] - 46s 185ms/step - loss: 0.0633 - accuracy: 0.9822 - val_loss: 1.0495 - val_accuracy: 0.7797\n",
            "Epoch 11/20\n",
            "251/251 [==============================] - 46s 184ms/step - loss: 0.0502 - accuracy: 0.9860 - val_loss: 1.1119 - val_accuracy: 0.7677\n",
            "Epoch 12/20\n",
            "251/251 [==============================] - 47s 186ms/step - loss: 0.0593 - accuracy: 0.9833 - val_loss: 1.0385 - val_accuracy: 0.7737\n",
            "Epoch 13/20\n",
            "251/251 [==============================] - 46s 185ms/step - loss: 0.0574 - accuracy: 0.9828 - val_loss: 0.9791 - val_accuracy: 0.7695\n",
            "Epoch 14/20\n",
            "251/251 [==============================] - 47s 187ms/step - loss: 0.0386 - accuracy: 0.9889 - val_loss: 1.0700 - val_accuracy: 0.7677\n",
            "Epoch 15/20\n",
            "251/251 [==============================] - 47s 188ms/step - loss: 0.0308 - accuracy: 0.9895 - val_loss: 1.0515 - val_accuracy: 0.7581\n",
            "Epoch 16/20\n",
            "251/251 [==============================] - 47s 186ms/step - loss: 0.0324 - accuracy: 0.9889 - val_loss: 1.1856 - val_accuracy: 0.7665\n",
            "Epoch 17/20\n",
            "251/251 [==============================] - 46s 184ms/step - loss: 0.0338 - accuracy: 0.9900 - val_loss: 1.1776 - val_accuracy: 0.7677\n",
            "Epoch 18/20\n",
            "251/251 [==============================] - 46s 184ms/step - loss: 0.0271 - accuracy: 0.9916 - val_loss: 1.2374 - val_accuracy: 0.7647\n",
            "Epoch 19/20\n",
            "251/251 [==============================] - 47s 186ms/step - loss: 0.0327 - accuracy: 0.9884 - val_loss: 1.2460 - val_accuracy: 0.7665\n",
            "Epoch 20/20\n",
            "251/251 [==============================] - 47s 188ms/step - loss: 0.0311 - accuracy: 0.9883 - val_loss: 1.2734 - val_accuracy: 0.7617\n"
          ]
        }
      ]
    },
    {
      "cell_type": "code",
      "source": [
        "plt.subplot(1,2,1)\n",
        "plt.plot(history_em.history['accuracy'])\n",
        "plt.plot(history_em.history['val_accuracy'])\n",
        "plt.title('Model accuracy per epoch')\n",
        "plt.ylabel('accuracy')\n",
        "plt.xlabel('epoch')\n",
        "plt.legend(['train', 'validation'], loc='upper left')\n",
        "\n",
        "plt.subplot(1,2,2)\n",
        "plt.plot(history_em.history['loss'])\n",
        "plt.plot(history_em.history['val_loss'])\n",
        "plt.title('Model Loss per epoch')\n",
        "plt.ylabel('loss')\n",
        "plt.xlabel('epoch')\n",
        "plt.legend(['train', 'validation'], loc='upper right')\n",
        "\n",
        "plt.show()"
      ],
      "metadata": {
        "colab": {
          "base_uri": "https://localhost:8080/",
          "height": 347
        },
        "id": "FWDyZMMDWV-U",
        "outputId": "ff0c7657-7760-40a6-8cdd-04ac81f04a1b"
      },
      "execution_count": 192,
      "outputs": [
        {
          "output_type": "display_data",
          "data": {
            "image/png": "[encoded data removed]",
            "text/plain": [
              "<Figure size 1440x360 with 2 Axes>"
            ]
          },
          "metadata": {
            "needs_background": "light"
          }
        }
      ]
    },
    {
      "cell_type": "code",
      "source": [
        "test_scores = model_em.evaluate(Xtest, Ytest, verbose=0)\n",
        "\n",
        "print(\"Test Accuracy is :\",test_scores[1])\n",
        "print(\"Test Loss is :\",test_scores[0])"
      ],
      "metadata": {
        "colab": {
          "base_uri": "https://localhost:8080/"
        },
        "id": "hCSGzhw_S7yy",
        "outputId": "df6ba5d1-75dd-45ce-e9ad-c56b1282e220"
      },
      "execution_count": 193,
      "outputs": [
        {
          "output_type": "stream",
          "name": "stdout",
          "text": [
            "Test Accuracy is : 0.761704683303833\n",
            "Test Loss is : 1.273447871208191\n"
          ]
        }
      ]
    },
    {
      "cell_type": "code",
      "source": [
        ""
      ],
      "metadata": {
        "id": "BqeQMQULLltD"
      },
      "execution_count": null,
      "outputs": []
    },
    {
      "cell_type": "code",
      "source": [
        ""
      ],
      "metadata": {
        "id": "UH08Kc8xC0jt"
      },
      "execution_count": null,
      "outputs": []
    }
  ],
  "metadata": {
    "colab": {
      "name": "Senti-classification",
      "provenance": []
    },
    "kernelspec": {
      "display_name": "Python 3",
      "name": "python3"
    },
    "language_info": {
      "name": "python"
    }
  },
  "nbformat": 4,
  "nbformat_minor": 0
}